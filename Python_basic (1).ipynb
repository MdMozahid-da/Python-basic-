{
  "nbformat": 4,
  "nbformat_minor": 0,
  "metadata": {
    "colab": {
      "provenance": []
    },
    "kernelspec": {
      "name": "python3",
      "display_name": "Python 3"
    },
    "language_info": {
      "name": "python"
    }
  },
  "cells": [
    {
      "cell_type": "markdown",
      "source": [
        "# Python basic\n"
      ],
      "metadata": {
        "id": "KIMsW6A66uOX"
      }
    },
    {
      "cell_type": "markdown",
      "source": [
        "1. What is Python, and why is it popular?\n",
        "  - Python is a high-level, interpreted programming language known for its readability and simplicity. It's popular due to its extensive libraries, ease of learning, and versatility in various domains such as web development, data science, artificial intelligence, and automation.\n",
        "\n",
        "2. What is an interpreter in Python?\n",
        "\n",
        "   - An interpreter in Python is a program that executes code line by line, converting it into machine code directly. This allows for interactive coding and immediate error detection.\n",
        "\n",
        "3. What are pre-defined keywords in Python?\n",
        "\n",
        "   - Pre-defined keywords in Python are reserved words that have special meaning in the language. Examples include if, else, while, break, def, return, import, etc.\n",
        "4. Can keywords be used as variable names?\n",
        "\n",
        "   - No, keywords cannot be used as variable names because they are reserved for specific functions or operations within the language.\n",
        "5. What is mutability in Python?\n",
        "\n",
        "   - Mutability in Python refers to the ability of an object to be changed after its creation. Mutable objects can be altered, while immutable objects cannot.\n",
        "\n",
        "6. Why are lists mutable, but tuples are immutable?\n",
        "\n",
        "  - Lists are mutable because you can change their content (add, remove, or modify elements) after creation. Tuples are immutable because, once created, you cannot make any changes to their content.\n",
        "\n",
        "7. hat is the difference between \"==\" and \"is\" operators in Python?\n",
        "\n",
        "   - The == operator checks if the values of two operands are equal, while the is operator checks if two operands refer to the same object in memory.\n",
        "8. What are logical operators in Python?\n",
        "\n",
        "    - Logical operators in Python include and, or, and not, which are used to combine conditional statements.\n",
        "\n",
        "9. What is type casting in Python?\n",
        "\n",
        "   - Type casting is the conversion of one data type to another. It can be done implicitly by the interpreter or explicitly by the programmer.\n",
        "10. What is the difference between implicit and explicit type casting?\n",
        "\n",
        "   - Implicit type casting is done automatically by Python, while explicit type casting is performed by the programmer using functions like int(), float(), str(), etc.\n",
        "\n",
        "11. What is the purpose of conditional statements in Python?\n",
        "\n",
        "    - Conditional statements allow the execution of certain code blocks based on whether a condition is true or false, enabling decision-making in the code.\n",
        "12. How does the elif statement work?\n",
        "\n",
        "    - The elif statement stands for \"else if\" and allows for multiple conditions to be checked in sequence. If one if or elif condition is true, the corresponding block of code is executed, and the rest are skipped.\n",
        "13. What is the difference between for and while loops?\n",
        "\n",
        "    - A for loop iterates over a sequence (like a list, tuple, or range) and executes the code block for each item. A while loop executes the code block as long as the condition is true.\n",
        "\n",
        "14. Describe a scenario where a while loop is more suitable than a for loop.\n",
        "\n",
        "    - A while loop is more suitable when the number of iterations is not known beforehand and depends on a condition being met. For example, reading data from a file until the end of the file is reached, where the total number of lines is unknown.\n",
        "\n",
        "    # Practical questions\n"
      ],
      "metadata": {
        "id": "PehwhbQp7EE4"
      }
    },
    {
      "cell_type": "code",
      "source": [
        "#1. Write a Python program to print \"Hello, World!\"\n",
        "\n",
        "'''\n",
        "print(\"Hello, World!\")\n",
        "'''\n"
      ],
      "metadata": {
        "id": "uGlC8AVW-J3l"
      },
      "execution_count": 1,
      "outputs": []
    },
    {
      "cell_type": "code",
      "source": [
        "#2. Write a Python program that displays your name and age.\n",
        "'''\n",
        "name = \"Your Name\"\n",
        "age = 25  # Replace with your age\n",
        "print(f\"My name is {name} and I am {age} years old.\")\n",
        "'''"
      ],
      "metadata": {
        "id": "gL5sTVRJ-WE_"
      },
      "execution_count": null,
      "outputs": []
    },
    {
      "cell_type": "code",
      "source": [
        "#3. Write code to print all the pre-defined keywords in Python using the keyword library.\n",
        "\n",
        "'''\n",
        "import keyword\n",
        "print(keyword.kwlist)\n",
        "'''"
      ],
      "metadata": {
        "colab": {
          "base_uri": "https://localhost:8080/",
          "height": 36
        },
        "id": "up1CncJu-wGL",
        "outputId": "c2af123a-f236-41ee-b05c-425f68c3629d"
      },
      "execution_count": 2,
      "outputs": [
        {
          "output_type": "execute_result",
          "data": {
            "text/plain": [
              "'import keyword\\nprint(keyword.kwlist)\\n'"
            ],
            "application/vnd.google.colaboratory.intrinsic+json": {
              "type": "string"
            }
          },
          "metadata": {},
          "execution_count": 2
        }
      ]
    },
    {
      "cell_type": "code",
      "source": [
        "#4. Write a program that checks if a given word is a Python keyword.\n",
        "'''\n",
        "import keyword\n",
        "word = input(\"Enter a word: \")\n",
        "if keyword.iskeyword(word):\n",
        "    print(f\"{word} is a Python keyword.\")\n",
        "else:\n",
        "    print(f\"{word} is not a Python keyword.\")\n",
        "'''"
      ],
      "metadata": {
        "id": "3wigYgvS_WZ9"
      },
      "execution_count": null,
      "outputs": []
    },
    {
      "cell_type": "code",
      "source": [
        "#5. Create a list and tuple in Python, and demonstrate how attempting to change an element works differently for each.\n",
        "'''\n",
        "# List - Mutable\n",
        "my_list = [1, 2, 3]\n",
        "my_list[0] = 10  # This works\n",
        "print(my_list)\n",
        "\n",
        "# Tuple - Immutable\n",
        "my_tuple = (1, 2, 3)\n",
        "# my_tuple[0] = 10  # This will raise an error\n",
        "print(my_tuple)\n",
        "'''"
      ],
      "metadata": {
        "id": "70AwTkJF_gjr"
      },
      "execution_count": null,
      "outputs": []
    },
    {
      "cell_type": "code",
      "source": [
        "#6. Write a function to demonstrate the behavior of mutable and immutable arguments.\n",
        "'''\n",
        "def mutable_demo(my_list):\n",
        "    my_list.append(1)\n",
        "    return my_list\n",
        "\n",
        "def immutable_demo(my_int):\n",
        "    my_int += 1\n",
        "    return my_int\n",
        "\n",
        "print(mutable_demo([0]))  # List is mutable\n",
        "print(immutable_demo(0))  # Int is immutable\n",
        "'''"
      ],
      "metadata": {
        "id": "TbuMCEFD_syj"
      },
      "execution_count": null,
      "outputs": []
    },
    {
      "cell_type": "markdown",
      "source": [],
      "metadata": {
        "id": "EKdnmcWf_3Sz"
      }
    },
    {
      "cell_type": "code",
      "source": [
        "#7. Write a function to demonstrate the behavior of mutable and immutable arguments.\n",
        "'''\n",
        "a, b = True, False\n",
        "print(a and b)  # False\n",
        "print(a or b)   # True\n",
        "print(not a)    # False\n",
        "'''"
      ],
      "metadata": {
        "id": "dIPYwlUbAjKj"
      },
      "execution_count": null,
      "outputs": []
    },
    {
      "cell_type": "code",
      "source": [
        "#8. Write a program to demonstrate the use of logical operators.\n",
        "'''\n",
        "user_input = input(\"Enter something: \")\n",
        "user_int = int(user_input)\n",
        "user_float = float(user_input)\n",
        "user_bool = bool(user_input)\n",
        "print(user_int, user_float, user_bool)\n",
        "'''"
      ],
      "metadata": {
        "id": "MsEnWSWgAwjM"
      },
      "execution_count": null,
      "outputs": []
    },
    {
      "cell_type": "code",
      "source": [
        "#9. Write a Python program to convert user input from string to integer, float, and boolean types.\n",
        "'''\n",
        "my_list = ['1', '2', '3']\n",
        "my_int_list = [int(item) for item in my_list]\n",
        "print(my_int_list)\n",
        "'''"
      ],
      "metadata": {
        "id": "zDDVGZzIA7ck"
      },
      "execution_count": null,
      "outputs": []
    },
    {
      "cell_type": "code",
      "source": [
        "#10. Write code to demonstrate type casting with list elements.\n",
        "'''\n",
        "num = float(input(\"Enter a number: \"))\n",
        "if num > 0:\n",
        "    print(\"Positive\")\n",
        "elif num < 0:\n",
        "    print(\"Negative\")\n",
        "else:\n",
        "    print(\"Zero\")\n",
        "'''"
      ],
      "metadata": {
        "id": "SZN7U3PKBJXb"
      },
      "execution_count": null,
      "outputs": []
    },
    {
      "cell_type": "code",
      "source": [
        "#11. Write a program that checks if a number is positive, negative, or zero.\n",
        "'''\n",
        "for i in range(1, 11):\n",
        "    print(i)\n",
        "'''"
      ],
      "metadata": {
        "id": "-5sNnp62Bfm1"
      },
      "execution_count": null,
      "outputs": []
    },
    {
      "cell_type": "code",
      "source": [
        "#12. Write a for loop to print numbers from 1 to 10.\n",
        "'''\n",
        "sum_even = sum(range(2, 51, 2))\n",
        "print(sum_even)\n",
        "'''"
      ],
      "metadata": {
        "id": "7Sd1AsPIBqrU"
      },
      "execution_count": null,
      "outputs": []
    },
    {
      "cell_type": "code",
      "source": [
        "#13. Write a Python program to find the sum of all even numbers between 1 and 50.\n",
        "'''\n",
        "string = \"Hello\"\n",
        "reversed_string = \"\"\n",
        "i = len(string) - 1\n",
        "while i >= 0:\n",
        "    reversed_string += string[i]\n",
        "    i -= 1\n",
        "print(reversed_string)\n",
        "'''"
      ],
      "metadata": {
        "id": "nElXCuodB8bV"
      },
      "execution_count": null,
      "outputs": []
    },
    {
      "cell_type": "code",
      "source": [
        "#14. Write a program to reverse a string using a while loop.\n",
        "'''\n",
        "num = int(input(\"Enter a number: \"))\n",
        "factorial = 1\n",
        "while num > 1:\n",
        "    factorial *= num\n",
        "    num -= 1\n",
        "print(f\"Factorial: {factorial}\")\n",
        "'''"
      ],
      "metadata": {
        "id": "b0zd84BUCD1T"
      },
      "execution_count": null,
      "outputs": []
    },
    {
      "cell_type": "code",
      "source": [
        "#15. Write a Python program to calculate the factorial of a number provided by the user using a while loop.\n",
        "'''\n",
        "# Program to calculate the factorial using a while loop\n",
        "\n",
        "# Get user input\n",
        "num = int(input(\"Enter a number: \"))\n",
        "\n",
        "# Initialize factorial to 1\n",
        "factorial = 1\n",
        "\n",
        "# Ensure the number is non-negative\n",
        "if num < 0:\n",
        "    print(\"Factorial is not defined for negative numbers.\")\n",
        "else:\n",
        "    # Calculate the factorial\n",
        "    while num > 1:\n",
        "        factorial *= num\n",
        "        num -= 1\n",
        "\n",
        "    # Print the result\n",
        "    print(f\"The factorial is: {factorial}\")\n",
        "'''"
      ],
      "metadata": {
        "id": "AlWC2QofCOU0"
      },
      "execution_count": null,
      "outputs": []
    }
  ]
}